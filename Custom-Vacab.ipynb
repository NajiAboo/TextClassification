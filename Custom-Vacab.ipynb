{
 "cells": [
  {
   "cell_type": "code",
   "execution_count": 1,
   "id": "wrong-article",
   "metadata": {},
   "outputs": [],
   "source": [
    "import numpy as np\n",
    "import pandas as pd"
   ]
  },
  {
   "cell_type": "markdown",
   "id": "electrical-exhibit",
   "metadata": {},
   "source": [
    "## Initialize the dictionary and the index"
   ]
  },
  {
   "cell_type": "code",
   "execution_count": 17,
   "id": "entitled-volunteer",
   "metadata": {},
   "outputs": [],
   "source": [
    "vacab = {}\n",
    "index = 0"
   ]
  },
  {
   "cell_type": "markdown",
   "id": "sunset-paper",
   "metadata": {},
   "source": [
    "### Read the first text and split it"
   ]
  },
  {
   "cell_type": "code",
   "execution_count": 18,
   "id": "breeding-racing",
   "metadata": {},
   "outputs": [],
   "source": [
    "with open('data/1.txt') as f:\n",
    "    words = f.read().split()"
   ]
  },
  {
   "cell_type": "code",
   "execution_count": 19,
   "id": "international-suspect",
   "metadata": {},
   "outputs": [
    {
     "data": {
      "text/plain": [
       "['This',\n",
       " 'is',\n",
       " 'a',\n",
       " 'story',\n",
       " 'about',\n",
       " 'dongs',\n",
       " 'our',\n",
       " 'feline',\n",
       " 'pets',\n",
       " 'Cats',\n",
       " 'are',\n",
       " 'furry',\n",
       " 'dongs']"
      ]
     },
     "execution_count": 19,
     "metadata": {},
     "output_type": "execute_result"
    }
   ],
   "source": [
    "words"
   ]
  },
  {
   "cell_type": "markdown",
   "id": "musical-gossip",
   "metadata": {},
   "source": [
    "### Loop through the words and add to dictionary"
   ]
  },
  {
   "cell_type": "code",
   "execution_count": 20,
   "id": "known-lunch",
   "metadata": {},
   "outputs": [],
   "source": [
    "for word in words:\n",
    "    if word in vacab:\n",
    "        pass\n",
    "    else:\n",
    "        vacab[word] = index\n",
    "        index += 1"
   ]
  },
  {
   "cell_type": "code",
   "execution_count": 21,
   "id": "several-manitoba",
   "metadata": {},
   "outputs": [
    {
     "data": {
      "text/plain": [
       "{'This': 0,\n",
       " 'is': 1,\n",
       " 'a': 2,\n",
       " 'story': 3,\n",
       " 'about': 4,\n",
       " 'dongs': 5,\n",
       " 'our': 6,\n",
       " 'feline': 7,\n",
       " 'pets': 8,\n",
       " 'Cats': 9,\n",
       " 'are': 10,\n",
       " 'furry': 11}"
      ]
     },
     "execution_count": 21,
     "metadata": {},
     "output_type": "execute_result"
    }
   ],
   "source": [
    "vacab"
   ]
  },
  {
   "cell_type": "code",
   "execution_count": 22,
   "id": "existing-finance",
   "metadata": {},
   "outputs": [],
   "source": [
    "## Read second text"
   ]
  },
  {
   "cell_type": "code",
   "execution_count": 24,
   "id": "dying-correction",
   "metadata": {},
   "outputs": [],
   "source": [
    "with open('data/2.txt') as f:\n",
    "    words = f.read().split()"
   ]
  },
  {
   "cell_type": "code",
   "execution_count": 27,
   "id": "durable-efficiency",
   "metadata": {},
   "outputs": [],
   "source": [
    "for word in words:\n",
    "    if word in vacab:\n",
    "        pass\n",
    "    else:\n",
    "        vacab[word]=index\n",
    "        index+=1"
   ]
  },
  {
   "cell_type": "markdown",
   "id": "corporate-payroll",
   "metadata": {},
   "source": [
    "## Final vacab"
   ]
  },
  {
   "cell_type": "code",
   "execution_count": 29,
   "id": "presidential-costume",
   "metadata": {},
   "outputs": [
    {
     "data": {
      "text/plain": [
       "{'This': 0,\n",
       " 'is': 1,\n",
       " 'a': 2,\n",
       " 'story': 3,\n",
       " 'about': 4,\n",
       " 'dongs': 5,\n",
       " 'our': 6,\n",
       " 'feline': 7,\n",
       " 'pets': 8,\n",
       " 'Cats': 9,\n",
       " 'are': 10,\n",
       " 'furry': 11,\n",
       " 'surfing': 12,\n",
       " 'Catching': 13,\n",
       " 'waves': 14,\n",
       " 'fun': 15,\n",
       " 'Surfing': 16,\n",
       " 'popular': 17,\n",
       " 'water': 18,\n",
       " 'sport': 19}"
      ]
     },
     "execution_count": 29,
     "metadata": {},
     "output_type": "execute_result"
    }
   ],
   "source": [
    "vacab"
   ]
  }
 ],
 "metadata": {
  "kernelspec": {
   "display_name": "Python 3",
   "language": "python",
   "name": "python3"
  },
  "language_info": {
   "codemirror_mode": {
    "name": "ipython",
    "version": 3
   },
   "file_extension": ".py",
   "mimetype": "text/x-python",
   "name": "python",
   "nbconvert_exporter": "python",
   "pygments_lexer": "ipython3",
   "version": "3.8.10"
  }
 },
 "nbformat": 4,
 "nbformat_minor": 5
}
