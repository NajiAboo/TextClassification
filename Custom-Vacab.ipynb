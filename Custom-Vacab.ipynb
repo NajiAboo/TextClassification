{
 "cells": [
  {
   "cell_type": "code",
   "execution_count": 2,
   "id": "dominican-horizon",
   "metadata": {},
   "outputs": [],
   "source": [
    "import numpy as np\n",
    "import pandas as pd"
   ]
  },
  {
   "cell_type": "markdown",
   "id": "domestic-cedar",
   "metadata": {},
   "source": [
    "## Initialize the dictionary and the index"
   ]
  },
  {
   "cell_type": "code",
   "execution_count": 3,
   "id": "finite-console",
   "metadata": {},
   "outputs": [],
   "source": [
    "vacab = {}\n",
    "index = 0"
   ]
  },
  {
   "cell_type": "markdown",
   "id": "thick-eagle",
   "metadata": {},
   "source": [
    "### Read the first text and split it"
   ]
  },
  {
   "cell_type": "code",
   "execution_count": 4,
   "id": "impressed-chosen",
   "metadata": {},
   "outputs": [],
   "source": [
    "with open('data/1.txt') as f:\n",
    "    words = f.read().split()"
   ]
  },
  {
   "cell_type": "code",
   "execution_count": 5,
   "id": "legitimate-polyester",
   "metadata": {},
   "outputs": [
    {
     "data": {
      "text/plain": [
       "['This',\n",
       " 'is',\n",
       " 'a',\n",
       " 'story',\n",
       " 'about',\n",
       " 'dongs',\n",
       " 'our',\n",
       " 'feline',\n",
       " 'pets',\n",
       " 'Cats',\n",
       " 'are',\n",
       " 'furry',\n",
       " 'dongs']"
      ]
     },
     "execution_count": 5,
     "metadata": {},
     "output_type": "execute_result"
    }
   ],
   "source": [
    "words"
   ]
  },
  {
   "cell_type": "markdown",
   "id": "swiss-shopper",
   "metadata": {},
   "source": [
    "### Loop through the words and add to dictionary"
   ]
  },
  {
   "cell_type": "code",
   "execution_count": 6,
   "id": "interpreted-swimming",
   "metadata": {},
   "outputs": [],
   "source": [
    "for word in words:\n",
    "    if word in vacab:\n",
    "        pass\n",
    "    else:\n",
    "        vacab[word] = index\n",
    "        index += 1"
   ]
  },
  {
   "cell_type": "code",
   "execution_count": 7,
   "id": "eligible-german",
   "metadata": {},
   "outputs": [
    {
     "data": {
      "text/plain": [
       "{'This': 0,\n",
       " 'is': 1,\n",
       " 'a': 2,\n",
       " 'story': 3,\n",
       " 'about': 4,\n",
       " 'dongs': 5,\n",
       " 'our': 6,\n",
       " 'feline': 7,\n",
       " 'pets': 8,\n",
       " 'Cats': 9,\n",
       " 'are': 10,\n",
       " 'furry': 11}"
      ]
     },
     "execution_count": 7,
     "metadata": {},
     "output_type": "execute_result"
    }
   ],
   "source": [
    "vacab"
   ]
  },
  {
   "cell_type": "code",
   "execution_count": 8,
   "id": "detected-accountability",
   "metadata": {},
   "outputs": [],
   "source": [
    "## Read second text"
   ]
  },
  {
   "cell_type": "code",
   "execution_count": 9,
   "id": "documented-consolidation",
   "metadata": {},
   "outputs": [],
   "source": [
    "with open('data/2.txt') as f:\n",
    "    words = f.read().split()"
   ]
  },
  {
   "cell_type": "code",
   "execution_count": 10,
   "id": "informed-house",
   "metadata": {},
   "outputs": [],
   "source": [
    "for word in words:\n",
    "    if word in vacab:\n",
    "        pass\n",
    "    else:\n",
    "        vacab[word]=index\n",
    "        index+=1"
   ]
  },
  {
   "cell_type": "markdown",
   "id": "suffering-raising",
   "metadata": {},
   "source": [
    "## Final vacab"
   ]
  },
  {
   "cell_type": "code",
   "execution_count": 11,
   "id": "developing-collins",
   "metadata": {},
   "outputs": [
    {
     "data": {
      "text/plain": [
       "{'This': 0,\n",
       " 'is': 1,\n",
       " 'a': 2,\n",
       " 'story': 3,\n",
       " 'about': 4,\n",
       " 'dongs': 5,\n",
       " 'our': 6,\n",
       " 'feline': 7,\n",
       " 'pets': 8,\n",
       " 'Cats': 9,\n",
       " 'are': 10,\n",
       " 'furry': 11,\n",
       " 'surfing': 12,\n",
       " 'Catching': 13,\n",
       " 'waves': 14,\n",
       " 'fun': 15,\n",
       " 'Surfing': 16,\n",
       " 'popular': 17,\n",
       " 'water': 18,\n",
       " 'sport': 19}"
      ]
     },
     "execution_count": 11,
     "metadata": {},
     "output_type": "execute_result"
    }
   ],
   "source": [
    "vacab"
   ]
  },
  {
   "cell_type": "markdown",
   "id": "african-decrease",
   "metadata": {},
   "source": [
    "# Feature Extaction"
   ]
  },
  {
   "cell_type": "code",
   "execution_count": 26,
   "id": "legislative-moore",
   "metadata": {},
   "outputs": [],
   "source": [
    "one = ['1.txt']+ [0]*len(vacab)"
   ]
  },
  {
   "cell_type": "code",
   "execution_count": 27,
   "id": "fifth-costa",
   "metadata": {},
   "outputs": [
    {
     "data": {
      "text/plain": [
       "['1.txt', 0, 0, 0, 0, 0, 0, 0, 0, 0, 0, 0, 0, 0, 0, 0, 0, 0, 0, 0, 0]"
      ]
     },
     "execution_count": 27,
     "metadata": {},
     "output_type": "execute_result"
    }
   ],
   "source": [
    "one"
   ]
  },
  {
   "cell_type": "code",
   "execution_count": 28,
   "id": "simple-foster",
   "metadata": {},
   "outputs": [],
   "source": [
    "## map the frequencies"
   ]
  },
  {
   "cell_type": "code",
   "execution_count": 29,
   "id": "embedded-northwest",
   "metadata": {},
   "outputs": [],
   "source": [
    "with open('data/1.txt') as f:\n",
    "    words = f.read().split()"
   ]
  },
  {
   "cell_type": "code",
   "execution_count": 30,
   "id": "roman-reset",
   "metadata": {},
   "outputs": [],
   "source": [
    "for word in words:\n",
    "    one[vacab[word]+1]+=1"
   ]
  },
  {
   "cell_type": "code",
   "execution_count": 31,
   "id": "armed-harbor",
   "metadata": {},
   "outputs": [
    {
     "data": {
      "text/plain": [
       "['1.txt', 1, 1, 1, 1, 1, 2, 1, 1, 1, 1, 1, 1, 0, 0, 0, 0, 0, 0, 0, 0]"
      ]
     },
     "execution_count": 31,
     "metadata": {},
     "output_type": "execute_result"
    }
   ],
   "source": [
    "one"
   ]
  },
  {
   "cell_type": "code",
   "execution_count": 35,
   "id": "coastal-spending",
   "metadata": {},
   "outputs": [],
   "source": [
    "two =['2.txt']+[0]*len(vacab)"
   ]
  },
  {
   "cell_type": "code",
   "execution_count": 36,
   "id": "assured-representation",
   "metadata": {},
   "outputs": [
    {
     "data": {
      "text/plain": [
       "['2.txt', 0, 0, 0, 0, 0, 0, 0, 0, 0, 0, 0, 0, 0, 0, 0, 0, 0, 0, 0, 0]"
      ]
     },
     "execution_count": 36,
     "metadata": {},
     "output_type": "execute_result"
    }
   ],
   "source": [
    "two"
   ]
  },
  {
   "cell_type": "code",
   "execution_count": 32,
   "id": "indonesian-resource",
   "metadata": {},
   "outputs": [],
   "source": [
    "with open('data/2.txt') as f:\n",
    "    words = f.read().split()"
   ]
  },
  {
   "cell_type": "code",
   "execution_count": 37,
   "id": "acute-institution",
   "metadata": {},
   "outputs": [],
   "source": [
    "for word in words:\n",
    "    two[vacab[word]+1]+=1\n",
    "    "
   ]
  },
  {
   "cell_type": "code",
   "execution_count": 39,
   "id": "shared-entertainment",
   "metadata": {},
   "outputs": [
    {
     "data": {
      "text/plain": [
       "['2.txt', 1, 3, 1, 1, 1, 0, 0, 0, 0, 0, 0, 0, 1, 1, 1, 1, 1, 1, 1, 1]"
      ]
     },
     "execution_count": 39,
     "metadata": {},
     "output_type": "execute_result"
    }
   ],
   "source": [
    "two"
   ]
  },
  {
   "cell_type": "code",
   "execution_count": 42,
   "id": "interesting-taiwan",
   "metadata": {},
   "outputs": [
    {
     "name": "stdout",
     "output_type": "stream",
     "text": [
      "['1.txt', 1, 1, 1, 1, 1, 2, 1, 1, 1, 1, 1, 1, 0, 0, 0, 0, 0, 0, 0, 0]\n",
      "['2.txt', 1, 3, 1, 1, 1, 0, 0, 0, 0, 0, 0, 0, 1, 1, 1, 1, 1, 1, 1, 1]\n"
     ]
    }
   ],
   "source": [
    "print(f\"{one}\\n{two}\")"
   ]
  }
 ],
 "metadata": {
  "kernelspec": {
   "display_name": "Python 3",
   "language": "python",
   "name": "python3"
  },
  "language_info": {
   "codemirror_mode": {
    "name": "ipython",
    "version": 3
   },
   "file_extension": ".py",
   "mimetype": "text/x-python",
   "name": "python",
   "nbconvert_exporter": "python",
   "pygments_lexer": "ipython3",
   "version": "3.8.10"
  }
 },
 "nbformat": 4,
 "nbformat_minor": 5
}
